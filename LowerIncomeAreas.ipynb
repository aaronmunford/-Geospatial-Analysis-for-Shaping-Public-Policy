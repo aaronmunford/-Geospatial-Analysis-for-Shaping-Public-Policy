{
  "nbformat": 4,
  "nbformat_minor": 0,
  "metadata": {
    "colab": {
      "provenance": [],
      "include_colab_link": true
    },
    "kernelspec": {
      "name": "python3",
      "display_name": "Python 3"
    },
    "language_info": {
      "name": "python"
    }
  },
  "cells": [
    {
      "cell_type": "markdown",
      "metadata": {
        "id": "view-in-github",
        "colab_type": "text"
      },
      "source": [
        "<a href=\"https://colab.research.google.com/github/aaronmunford/-Geospatial-Analysis-for-Shaping-Public-Policy/blob/main/LowerIncomeAreas.ipynb\" target=\"_parent\"><img src=\"https://colab.research.google.com/assets/colab-badge.svg\" alt=\"Open In Colab\"/></a>"
      ]
    },
    {
      "cell_type": "code",
      "execution_count": null,
      "metadata": {
        "id": "wfDwwosEL3-l"
      },
      "outputs": [],
      "source": [
        "import numpy as np\n",
        "import pandas as pd\n",
        "import geopandas as gpd\n",
        "import matplotlib.pyplot as plt\n",
        "import seaborn as sns\n",
        "from sklearn.linear_model import LinearRegression\n",
        "from sklearn.model_selection import train_test_split\n",
        "from sklearn import metrics\n",
        "import scipy.stats as stats\n",
        "\n",
        "# visualization\n",
        "%matplotlib inline\n",
        "import statsmodels.api as sm\n"
      ]
    },
    {
      "cell_type": "code",
      "source": [
        "!pip install --upgrade plotly"
      ],
      "metadata": {
        "colab": {
          "base_uri": "https://localhost:8080/"
        },
        "id": "9kSDthDnL9Qn",
        "outputId": "6e401e03-f151-4e41-cd1f-a8b9184e6d00"
      },
      "execution_count": null,
      "outputs": [
        {
          "output_type": "stream",
          "name": "stdout",
          "text": [
            "Requirement already satisfied: plotly in /usr/local/lib/python3.10/dist-packages (5.15.0)\n",
            "Collecting plotly\n",
            "  Downloading plotly-5.21.0-py3-none-any.whl (15.7 MB)\n",
            "\u001b[2K     \u001b[90m━━━━━━━━━━━━━━━━━━━━━━━━━━━━━━━━━━━━━━━━\u001b[0m \u001b[32m15.7/15.7 MB\u001b[0m \u001b[31m22.1 MB/s\u001b[0m eta \u001b[36m0:00:00\u001b[0m\n",
            "\u001b[?25hRequirement already satisfied: tenacity>=6.2.0 in /usr/local/lib/python3.10/dist-packages (from plotly) (8.2.3)\n",
            "Requirement already satisfied: packaging in /usr/local/lib/python3.10/dist-packages (from plotly) (24.0)\n",
            "Installing collected packages: plotly\n",
            "  Attempting uninstall: plotly\n",
            "    Found existing installation: plotly 5.15.0\n",
            "    Uninstalling plotly-5.15.0:\n",
            "      Successfully uninstalled plotly-5.15.0\n",
            "Successfully installed plotly-5.21.0\n"
          ]
        }
      ]
    },
    {
      "cell_type": "code",
      "source": [
        "import plotly.express as px"
      ],
      "metadata": {
        "id": "6hcQWSBhMEuq"
      },
      "execution_count": null,
      "outputs": []
    },
    {
      "cell_type": "code",
      "source": [
        "from google.colab import drive\n",
        "drive.mount(\"/content/drive\")"
      ],
      "metadata": {
        "colab": {
          "base_uri": "https://localhost:8080/"
        },
        "id": "q3kj6N3BMMDl",
        "outputId": "38e48dfa-be0f-4af8-f91c-a9d9954321b4"
      },
      "execution_count": null,
      "outputs": [
        {
          "output_type": "stream",
          "name": "stdout",
          "text": [
            "Mounted at /content/drive\n"
          ]
        }
      ]
    },
    {
      "cell_type": "code",
      "source": [
        "df = pd.read_csv('/content/drive/MyDrive/Datathon/risk_index/NRIDataDictionary_shortened.csv')\n",
        "df.shape\n"
      ],
      "metadata": {
        "colab": {
          "base_uri": "https://localhost:8080/"
        },
        "id": "70Qd9q8AMc1Y",
        "outputId": "122c0b34-3287-4e2d-cb96-43848d3fd763"
      },
      "execution_count": null,
      "outputs": [
        {
          "output_type": "execute_result",
          "data": {
            "text/plain": [
              "(114, 9)"
            ]
          },
          "metadata": {},
          "execution_count": 8
        }
      ]
    },
    {
      "cell_type": "code",
      "source": [
        "\n",
        "from google.colab import drive\n",
        "drive.mount('/content/drive')\n",
        "import os\n",
        "import sys\n",
        "import os\n",
        "sys.path.append('/usr/local/lib/python3.8/site-packages')\n",
        "os.environ[\"GMT_LIBRARY_PATH\"]=\"/usr/local/lib\""
      ],
      "metadata": {
        "colab": {
          "base_uri": "https://localhost:8080/"
        },
        "id": "2kvoysQ6NveT",
        "outputId": "7bf34161-ff58-4fbd-a131-82e23d715e5a"
      },
      "execution_count": null,
      "outputs": [
        {
          "output_type": "stream",
          "name": "stdout",
          "text": [
            "Drive already mounted at /content/drive; to attempt to forcibly remount, call drive.mount(\"/content/drive\", force_remount=True).\n"
          ]
        }
      ]
    },
    {
      "cell_type": "code",
      "source": [
        "import pandas as pd\n",
        "import geopandas as gpd\n",
        "import matplotlib.pyplot as plt\n",
        "%matplotlib inline\n"
      ],
      "metadata": {
        "id": "pHH1WvtQOco2"
      },
      "execution_count": null,
      "outputs": []
    },
    {
      "cell_type": "code",
      "source": [
        "from google.colab import drive\n",
        "drive.mount('/content/drive/')"
      ],
      "metadata": {
        "colab": {
          "base_uri": "https://localhost:8080/"
        },
        "id": "FB-iJyCAOh-v",
        "outputId": "6b552c61-2206-4491-c1a9-6a857f09e59a"
      },
      "execution_count": null,
      "outputs": [
        {
          "output_type": "stream",
          "name": "stdout",
          "text": [
            "Drive already mounted at /content/drive/; to attempt to forcibly remount, call drive.mount(\"/content/drive/\", force_remount=True).\n"
          ]
        }
      ]
    },
    {
      "cell_type": "code",
      "source": [],
      "metadata": {
        "id": "LJ-dfzviWp8I"
      },
      "execution_count": null,
      "outputs": []
    },
    {
      "cell_type": "code",
      "source": [
        "FL_fin = pd.read_csv('/content/drive/MyDrive/Datathon/census/financial/FL_fin.csv')\n",
        "GA_fin = pd.read_csv('/content/drive/MyDrive/Datathon/census/financial/GA_fin.csv')\n",
        "TX_fin = pd.read_csv('/content/drive/MyDrive/Datathon/census/financial/TX_fin.csv')"
      ],
      "metadata": {
        "id": "_JO2lTFaPjK5"
      },
      "execution_count": null,
      "outputs": []
    },
    {
      "cell_type": "code",
      "source": [
        "FL_fin.info()"
      ],
      "metadata": {
        "colab": {
          "base_uri": "https://localhost:8080/"
        },
        "id": "TTLiq09BbGS-",
        "outputId": "b0524004-a030-487c-8d5f-d019a192059f"
      },
      "execution_count": null,
      "outputs": [
        {
          "output_type": "stream",
          "name": "stdout",
          "text": [
            "<class 'pandas.core.frame.DataFrame'>\n",
            "RangeIndex: 5160 entries, 0 to 5159\n",
            "Data columns (total 26 columns):\n",
            " #   Column                                      Non-Null Count  Dtype \n",
            "---  ------                                      --------------  ----- \n",
            " 0   geography                                   5160 non-null   object\n",
            " 1   geographic_area_name                        5160 non-null   object\n",
            " 2   occupied_housing_units                      5160 non-null   int64 \n",
            " 3   occupied_housing_units_moe                  5160 non-null   int64 \n",
            " 4   median_monthly_costs_occupied_units         5160 non-null   object\n",
            " 5   median_monthly_costs_occupied_units_moe     5160 non-null   object\n",
            " 6   occupied_units_percentage                   5160 non-null   int64 \n",
            " 7   occupied_units_percentage_moe               5160 non-null   int64 \n",
            " 8   owner_occupied_units                        5160 non-null   int64 \n",
            " 9   owner_occupied_units_moe                    5160 non-null   int64 \n",
            " 10  median_monthly_costs_owner_occupied         5160 non-null   object\n",
            " 11  median_monthly_costs_owner_occupied_moe     5160 non-null   object\n",
            " 12  owner_occupied_units_percentage             5160 non-null   int64 \n",
            " 13  owner_occupied_units_percentage_moe         5160 non-null   int64 \n",
            " 14  median_monthly_costs_owner_percentage       5160 non-null   object\n",
            " 15  median_monthly_costs_owner_percentage_moe   5160 non-null   object\n",
            " 16  renter_occupied_units                       5160 non-null   int64 \n",
            " 17  renter_occupied_units_moe                   5160 non-null   int64 \n",
            " 18  no_cash_rent_renter_units                   5160 non-null   int64 \n",
            " 19  no_cash_rent_renter_units_moe               5160 non-null   int64 \n",
            " 20  median_monthly_costs_renter_units           5160 non-null   object\n",
            " 21  median_monthly_costs_renter_units_moe       5160 non-null   object\n",
            " 22  renter_occupied_units_percentage            5160 non-null   int64 \n",
            " 23  renter_occupied_units_percentage_moe        5160 non-null   int64 \n",
            " 24  median_monthly_costs_renter_percentage      5160 non-null   object\n",
            " 25  median_monthly_costs_renter_percentage_moe  5160 non-null   object\n",
            "dtypes: int64(14), object(12)\n",
            "memory usage: 1.0+ MB\n"
          ]
        }
      ]
    },
    {
      "cell_type": "code",
      "source": [],
      "metadata": {
        "id": "ydmDHVrWbfdA"
      },
      "execution_count": null,
      "outputs": []
    },
    {
      "cell_type": "code",
      "source": [
        "TX_pov = pd.read_csv('/content/drive/MyDrive/Datathon/census/poverty/TX_pov.csv')\n",
        "GA_pov = pd.read_csv('/content/drive/MyDrive/Datathon/census/poverty/GA_pov.csv')\n",
        "FL_pov = pd.read_csv('/content/drive/MyDrive/Datathon/census/poverty/FL_pov.csv')"
      ],
      "metadata": {
        "id": "6L858_5GPjS1"
      },
      "execution_count": null,
      "outputs": []
    },
    {
      "cell_type": "code",
      "source": [
        "TX_pov.info()"
      ],
      "metadata": {
        "colab": {
          "base_uri": "https://localhost:8080/"
        },
        "id": "K-OUjedmcDsY",
        "outputId": "aa4da91a-1c52-433f-ee75-e5573791a141"
      },
      "execution_count": null,
      "outputs": [
        {
          "output_type": "stream",
          "name": "stdout",
          "text": [
            "<class 'pandas.core.frame.DataFrame'>\n",
            "RangeIndex: 6896 entries, 0 to 6895\n",
            "Data columns (total 28 columns):\n",
            " #   Column                                           Non-Null Count  Dtype \n",
            "---  ------                                           --------------  ----- \n",
            " 0   geography                                        6896 non-null   object\n",
            " 1   geographic_area_name                             6896 non-null   object\n",
            " 2   all_families                                     6896 non-null   int64 \n",
            " 3   all_families_moe                                 6896 non-null   int64 \n",
            " 4   householder_65_and_over                          6896 non-null   int64 \n",
            " 5   householder_65_and_over_moe                      6896 non-null   int64 \n",
            " 6   families_received_ssi_or_public_assistance       6896 non-null   int64 \n",
            " 7   families_received_ssi_or_public_assistance_moe   6896 non-null   int64 \n",
            " 8   families_received_social_security                6896 non-null   int64 \n",
            " 9   families_received_social_security_moe            6896 non-null   int64 \n",
            " 10  family_2_people                                  6896 non-null   int64 \n",
            " 11  family_2_people_moe                              6896 non-null   int64 \n",
            " 12  family_3_or_4_people                             6896 non-null   int64 \n",
            " 13  family_3_or_4_people_moe                         6896 non-null   int64 \n",
            " 14  family_5_or_6_people                             6896 non-null   int64 \n",
            " 15  family_5_or_6_people_moe                         6896 non-null   int64 \n",
            " 16  family_7_or_more_people                          6896 non-null   int64 \n",
            " 17  family_7_or_more_people_moe                      6896 non-null   int64 \n",
            " 18  owner_occupied                                   6896 non-null   int64 \n",
            " 19  owner_occupied_moe                               6896 non-null   int64 \n",
            " 20  renter_occupied                                  6896 non-null   int64 \n",
            " 21  renter_occupied_moe                              6896 non-null   int64 \n",
            " 22  percent_below_poverty_level                      6896 non-null   object\n",
            " 23  percent_below_poverty_level_moe                  6896 non-null   object\n",
            " 24  percent_below_poverty_level_owner_occupied       6896 non-null   object\n",
            " 25  percent_below_poverty_level_owner_occupied_moe   6896 non-null   object\n",
            " 26  percent_below_poverty_level_renter_occupied      6896 non-null   object\n",
            " 27  percent_below_poverty_level_renter_occupied_moe  6896 non-null   object\n",
            "dtypes: int64(20), object(8)\n",
            "memory usage: 1.5+ MB\n"
          ]
        }
      ]
    },
    {
      "cell_type": "code",
      "source": [
        "TX_inc = pd.read_csv('/content/drive/MyDrive/Datathon/census/income/TX_income.csv')\n",
        "GA_inc = pd.read_csv('/content/drive/MyDrive/Datathon/census/income/GA_income.csv')\n",
        "FL_inc = pd.read_csv('/content/drive/MyDrive/Datathon/census/income/FL_income.csv')"
      ],
      "metadata": {
        "id": "GvUpWjslPja7"
      },
      "execution_count": null,
      "outputs": []
    },
    {
      "cell_type": "code",
      "source": [
        "TX_inc.info()"
      ],
      "metadata": {
        "colab": {
          "base_uri": "https://localhost:8080/"
        },
        "id": "6BYAYuY0djS3",
        "outputId": "66ccaac6-b917-43a2-99d1-d96527f41ea4"
      },
      "execution_count": null,
      "outputs": [
        {
          "output_type": "stream",
          "name": "stdout",
          "text": [
            "<class 'pandas.core.frame.DataFrame'>\n",
            "RangeIndex: 6896 entries, 0 to 6895\n",
            "Data columns (total 8 columns):\n",
            " #   Column                             Non-Null Count  Dtype \n",
            "---  ------                             --------------  ----- \n",
            " 0   geography                          6896 non-null   object\n",
            " 1   geographic_area_name               6896 non-null   object\n",
            " 2   families_number                    6896 non-null   int64 \n",
            " 3   families_number_moe                6896 non-null   int64 \n",
            " 4   families_percent_distribution      6896 non-null   int64 \n",
            " 5   families_percent_distribution_moe  6896 non-null   int64 \n",
            " 6   families_median_income             6896 non-null   object\n",
            " 7   families_median_income_moe         6896 non-null   object\n",
            "dtypes: int64(4), object(4)\n",
            "memory usage: 431.1+ KB\n"
          ]
        }
      ]
    },
    {
      "cell_type": "code",
      "source": [
        "TX_housing = pd.read_csv('/content/drive/MyDrive/Datathon/census/housing/TX_housing.csv')\n",
        "GA_housing = pd.read_csv('/content/drive/MyDrive/Datathon/census/housing/GA_housing.csv')\n",
        "FL_housing = pd.read_csv('/content/drive/MyDrive/Datathon/census/housing/FL_housing.csv')"
      ],
      "metadata": {
        "id": "lxxcLxW7PtLt"
      },
      "execution_count": null,
      "outputs": []
    },
    {
      "cell_type": "code",
      "source": [
        "TX_housing.info()"
      ],
      "metadata": {
        "colab": {
          "base_uri": "https://localhost:8080/"
        },
        "id": "3k7lCGmoWtzk",
        "outputId": "bfc20162-9d34-4cfc-ada8-045906dad115"
      },
      "execution_count": null,
      "outputs": [
        {
          "output_type": "stream",
          "name": "stdout",
          "text": [
            "<class 'pandas.core.frame.DataFrame'>\n",
            "RangeIndex: 6896 entries, 0 to 6895\n",
            "Data columns (total 12 columns):\n",
            " #   Column                      Non-Null Count  Dtype \n",
            "---  ------                      --------------  ----- \n",
            " 0   geography                   6896 non-null   object\n",
            " 1   geographic_area_name        6896 non-null   object\n",
            " 2   total_housing_units         6896 non-null   int64 \n",
            " 3   total_housing_units_moe     6896 non-null   int64 \n",
            " 4   occupied_housing_units      6896 non-null   int64 \n",
            " 5   occupied_housing_units_moe  6896 non-null   int64 \n",
            " 6   vacant_housing_units        6896 non-null   int64 \n",
            " 7   vacant_housing_units_moe    6896 non-null   int64 \n",
            " 8   homeowner_vacancy_rate      6896 non-null   object\n",
            " 9   homeowner_vacancy_rate_moe  6896 non-null   object\n",
            " 10  rental_vacancy_rate         6896 non-null   object\n",
            " 11  rental_vacancy_rate_moe     6896 non-null   object\n",
            "dtypes: int64(6), object(6)\n",
            "memory usage: 646.6+ KB\n"
          ]
        }
      ]
    },
    {
      "cell_type": "markdown",
      "source": [
        "Selection of Relevant Columns"
      ],
      "metadata": {
        "id": "W2vkWDwHpF8L"
      }
    },
    {
      "cell_type": "code",
      "source": [
        "relevant_columns_financial = [\n",
        "    'geographic_area_name', 'occupied_housing_units',\n",
        "]\n",
        "\n",
        "relevant_columns_poverty = [\n",
        "    'geographic_area_name', 'percent_below_poverty_level', 'percent_below_poverty_level_moe',\n",
        "    'families_received_ssi_or_public_assistance',\n",
        "]\n",
        "\n",
        "relevant_columns_income = [\n",
        "    'geographic_area_name', 'families_median_income', 'families_median_income_moe',\n",
        "]\n",
        "\n",
        "relevant_columns_housing = [\n",
        "     'geographic_area_name','total_housing_units', 'total_housing_units_moe', 'occupied_housing_units', 'vacant_housing_units'\n",
        "]\n",
        "\n",
        "TX_housing = TX_housing[relevant_columns_housing]\n",
        "print(TX_housing.head())\n",
        "\n",
        "FL_housing = FL_housing[relevant_columns_housing]\n",
        "print(FL_housing.head())\n",
        "\n",
        "GA_housing = GA_housing[relevant_columns_housing]\n",
        "print(GA_housing.head())\n",
        "\n",
        "TX_fin = TX_fin[relevant_columns_financial]\n",
        "print(TX_fin.head())\n",
        "\n",
        "FL_fin = FL_fin[relevant_columns_financial]\n",
        "print(FL_fin.head())\n",
        "\n",
        "GA_fin = GA_fin[relevant_columns_financial]\n",
        "print(GA_fin.head())\n",
        "\n",
        "TX_inc = TX_inc[relevant_columns_income]\n",
        "print(TX_inc.head())\n",
        "\n",
        "FL_inc = FL_inc[relevant_columns_income]\n",
        "print(FL_inc.head())\n",
        "\n",
        "GA_inc = GA_inc[relevant_columns_income]\n",
        "print(GA_inc.head())\n",
        "\n",
        "TX_pov = TX_pov[relevant_columns_poverty]\n",
        "print(TX_pov.head())\n",
        "\n",
        "FL_pov = FL_pov[relevant_columns_poverty]\n",
        "print(FL_pov.head())\n",
        "\n",
        "GA_pov = GA_pov[relevant_columns_poverty]\n",
        "print(GA_pov.head())"
      ],
      "metadata": {
        "colab": {
          "base_uri": "https://localhost:8080/"
        },
        "id": "g45ZMRa-Wt53",
        "outputId": "33dd6d91-03fa-4071-c0fe-8d800ba28eba"
      },
      "execution_count": null,
      "outputs": [
        {
          "output_type": "stream",
          "name": "stdout",
          "text": [
            "                           geographic_area_name  total_housing_units  \\\n",
            "0     Census Tract 9501; Anderson County; Texas                 2270   \n",
            "1  Census Tract 9504.01; Anderson County; Texas                   47   \n",
            "2  Census Tract 9504.02; Anderson County; Texas                    0   \n",
            "3     Census Tract 9505; Anderson County; Texas                 1645   \n",
            "4     Census Tract 9506; Anderson County; Texas                 2224   \n",
            "\n",
            "   total_housing_units_moe  occupied_housing_units  vacant_housing_units  \n",
            "0                      233                    1833                   437  \n",
            "1                       32                      20                    27  \n",
            "2                       21                       0                     0  \n",
            "3                      225                    1425                   220  \n",
            "4                      324                    1988                   236  \n",
            "                         geographic_area_name  total_housing_units  \\\n",
            "0  Census Tract 2.01; Alachua County; Florida                 2232   \n",
            "1  Census Tract 2.02; Alachua County; Florida                 1935   \n",
            "2  Census Tract 3.01; Alachua County; Florida                 2113   \n",
            "3  Census Tract 3.02; Alachua County; Florida                 1393   \n",
            "4     Census Tract 4; Alachua County; Florida                 2401   \n",
            "\n",
            "   total_housing_units_moe  occupied_housing_units  vacant_housing_units  \n",
            "0                      362                    1960                   272  \n",
            "1                      384                    1690                   245  \n",
            "2                      278                    1816                   297  \n",
            "3                      153                    1237                   156  \n",
            "4                      439                    2242                   159  \n",
            "                            geographic_area_name  total_housing_units  \\\n",
            "0     Census Tract 9501; Appling County; Georgia                 1540   \n",
            "1  Census Tract 9502.01; Appling County; Georgia                 1160   \n",
            "2  Census Tract 9502.02; Appling County; Georgia                 1032   \n",
            "3  Census Tract 9503.01; Appling County; Georgia                 1382   \n",
            "4  Census Tract 9503.02; Appling County; Georgia                 1048   \n",
            "\n",
            "   total_housing_units_moe  occupied_housing_units  vacant_housing_units  \n",
            "0                      215                    1253                   287  \n",
            "1                      212                     939                   221  \n",
            "2                      208                     903                   129  \n",
            "3                      190                    1007                   375  \n",
            "4                      210                     814                   234  \n",
            "                           geographic_area_name  occupied_housing_units\n",
            "0     Census Tract 9501; Anderson County; Texas                    1833\n",
            "1  Census Tract 9504.01; Anderson County; Texas                      20\n",
            "2  Census Tract 9504.02; Anderson County; Texas                       0\n",
            "3     Census Tract 9505; Anderson County; Texas                    1425\n",
            "4     Census Tract 9506; Anderson County; Texas                    1988\n",
            "                         geographic_area_name  occupied_housing_units\n",
            "0  Census Tract 2.01; Alachua County; Florida                    1960\n",
            "1  Census Tract 2.02; Alachua County; Florida                    1690\n",
            "2  Census Tract 3.01; Alachua County; Florida                    1816\n",
            "3  Census Tract 3.02; Alachua County; Florida                    1237\n",
            "4     Census Tract 4; Alachua County; Florida                    2242\n",
            "                            geographic_area_name  occupied_housing_units\n",
            "0     Census Tract 9501; Appling County; Georgia                    1253\n",
            "1  Census Tract 9502.01; Appling County; Georgia                     939\n",
            "2  Census Tract 9502.02; Appling County; Georgia                     903\n",
            "3  Census Tract 9503.01; Appling County; Georgia                    1007\n",
            "4  Census Tract 9503.02; Appling County; Georgia                     814\n",
            "                           geographic_area_name families_median_income  \\\n",
            "0     Census Tract 9501; Anderson County; Texas                  81250   \n",
            "1  Census Tract 9504.01; Anderson County; Texas                 105000   \n",
            "2  Census Tract 9504.02; Anderson County; Texas                      -   \n",
            "3     Census Tract 9505; Anderson County; Texas                  59959   \n",
            "4     Census Tract 9506; Anderson County; Texas                  53063   \n",
            "\n",
            "  families_median_income_moe  \n",
            "0                      10343  \n",
            "1                      62532  \n",
            "2                         **  \n",
            "3                       5019  \n",
            "4                      21619  \n",
            "                         geographic_area_name families_median_income  \\\n",
            "0  Census Tract 2.01; Alachua County; Florida                      -   \n",
            "1  Census Tract 2.02; Alachua County; Florida                      -   \n",
            "2  Census Tract 3.01; Alachua County; Florida                  48464   \n",
            "3  Census Tract 3.02; Alachua County; Florida                  65109   \n",
            "4     Census Tract 4; Alachua County; Florida                  55224   \n",
            "\n",
            "  families_median_income_moe  \n",
            "0                         **  \n",
            "1                         **  \n",
            "2                       2217  \n",
            "3                      29484  \n",
            "4                      19651  \n",
            "                            geographic_area_name families_median_income  \\\n",
            "0     Census Tract 9501; Appling County; Georgia                  66150   \n",
            "1  Census Tract 9502.01; Appling County; Georgia                  54054   \n",
            "2  Census Tract 9502.02; Appling County; Georgia                  53327   \n",
            "3  Census Tract 9503.01; Appling County; Georgia                  53507   \n",
            "4  Census Tract 9503.02; Appling County; Georgia                  50393   \n",
            "\n",
            "  families_median_income_moe  \n",
            "0                      27177  \n",
            "1                      13415  \n",
            "2                       1485  \n",
            "3                      18922  \n",
            "4                      23312  \n",
            "                           geographic_area_name percent_below_poverty_level  \\\n",
            "0     Census Tract 9501; Anderson County; Texas                        14.0   \n",
            "1  Census Tract 9504.01; Anderson County; Texas                         0.0   \n",
            "2  Census Tract 9504.02; Anderson County; Texas                           -   \n",
            "3     Census Tract 9505; Anderson County; Texas                        13.8   \n",
            "4     Census Tract 9506; Anderson County; Texas                        22.2   \n",
            "\n",
            "  percent_below_poverty_level_moe  families_received_ssi_or_public_assistance  \n",
            "0                             7.6                                         195  \n",
            "1                            82.3                                           2  \n",
            "2                              **                                           0  \n",
            "3                             7.6                                          82  \n",
            "4                            15.3                                         162  \n",
            "                         geographic_area_name percent_below_poverty_level  \\\n",
            "0  Census Tract 2.01; Alachua County; Florida                        17.2   \n",
            "1  Census Tract 2.02; Alachua County; Florida                        53.3   \n",
            "2  Census Tract 3.01; Alachua County; Florida                         7.9   \n",
            "3  Census Tract 3.02; Alachua County; Florida                         5.1   \n",
            "4     Census Tract 4; Alachua County; Florida                        19.1   \n",
            "\n",
            "  percent_below_poverty_level_moe  families_received_ssi_or_public_assistance  \n",
            "0                            31.6                                           1  \n",
            "1                            32.0                                          12  \n",
            "2                             8.5                                          28  \n",
            "3                             6.1                                          80  \n",
            "4                            10.6                                         223  \n",
            "                            geographic_area_name percent_below_poverty_level  \\\n",
            "0     Census Tract 9501; Appling County; Georgia                        20.3   \n",
            "1  Census Tract 9502.01; Appling County; Georgia                        24.7   \n",
            "2  Census Tract 9502.02; Appling County; Georgia                        16.1   \n",
            "3  Census Tract 9503.01; Appling County; Georgia                         9.4   \n",
            "4  Census Tract 9503.02; Appling County; Georgia                        30.0   \n",
            "\n",
            "  percent_below_poverty_level_moe  families_received_ssi_or_public_assistance  \n",
            "0                            10.4                                          45  \n",
            "1                            16.8                                          15  \n",
            "2                            14.7                                         153  \n",
            "3                             8.0                                          55  \n",
            "4                            19.4                                         144  \n"
          ]
        }
      ]
    },
    {
      "cell_type": "markdown",
      "source": [
        "Conversion of Certain Data Types"
      ],
      "metadata": {
        "id": "M9KyXj-IpDHB"
      }
    },
    {
      "cell_type": "code",
      "source": [
        "datasets = [TX_housing, FL_housing, GA_housing, TX_fin, FL_fin, GA_fin, TX_inc, FL_inc, GA_inc, TX_pov, FL_pov, GA_pov]\n",
        "\n",
        "for df in datasets:\n",
        "    if 'percent_below_poverty_level' in df.columns:\n",
        "        df['percent_below_poverty_level'] = pd.to_numeric(df['percent_below_poverty_level'], errors='coerce')\n",
        "    if 'total_housing_units' in df.columns:\n",
        "        df['total_housing_units'] = pd.to_numeric(df['total_housing_units'], errors='coerce')\n",
        "    if 'geographic_area_name' in df.columns:\n",
        "        df['geographic_area_name'] = df['geographic_area_name'].astype('category')\n",
        "\n",
        "print(TX_housing.head())\n",
        "print(FL_housing.head())\n",
        "print(GA_housing.head())\n",
        "print(TX_fin.head())\n",
        "print(FL_fin.head())\n",
        "print(GA_fin.head())\n",
        "print(TX_inc.head())\n",
        "print(FL_inc.head())\n",
        "print(GA_inc.head())\n",
        "print(TX_pov.head())\n",
        "print(FL_pov.head())\n",
        "print(GA_pov.head())"
      ],
      "metadata": {
        "colab": {
          "base_uri": "https://localhost:8080/"
        },
        "id": "MxsZmT14j04J",
        "outputId": "035539c0-b0aa-4812-b3ae-89c9eb39eb3e"
      },
      "execution_count": null,
      "outputs": [
        {
          "output_type": "stream",
          "name": "stdout",
          "text": [
            "                           geographic_area_name  total_housing_units  \\\n",
            "0     Census Tract 9501; Anderson County; Texas                 2270   \n",
            "1  Census Tract 9504.01; Anderson County; Texas                   47   \n",
            "2  Census Tract 9504.02; Anderson County; Texas                    0   \n",
            "3     Census Tract 9505; Anderson County; Texas                 1645   \n",
            "4     Census Tract 9506; Anderson County; Texas                 2224   \n",
            "\n",
            "   total_housing_units_moe  occupied_housing_units  vacant_housing_units  \n",
            "0                      233                    1833                   437  \n",
            "1                       32                      20                    27  \n",
            "2                       21                       0                     0  \n",
            "3                      225                    1425                   220  \n",
            "4                      324                    1988                   236  \n",
            "                         geographic_area_name  total_housing_units  \\\n",
            "0  Census Tract 2.01; Alachua County; Florida                 2232   \n",
            "1  Census Tract 2.02; Alachua County; Florida                 1935   \n",
            "2  Census Tract 3.01; Alachua County; Florida                 2113   \n",
            "3  Census Tract 3.02; Alachua County; Florida                 1393   \n",
            "4     Census Tract 4; Alachua County; Florida                 2401   \n",
            "\n",
            "   total_housing_units_moe  occupied_housing_units  vacant_housing_units  \n",
            "0                      362                    1960                   272  \n",
            "1                      384                    1690                   245  \n",
            "2                      278                    1816                   297  \n",
            "3                      153                    1237                   156  \n",
            "4                      439                    2242                   159  \n",
            "                            geographic_area_name  total_housing_units  \\\n",
            "0     Census Tract 9501; Appling County; Georgia                 1540   \n",
            "1  Census Tract 9502.01; Appling County; Georgia                 1160   \n",
            "2  Census Tract 9502.02; Appling County; Georgia                 1032   \n",
            "3  Census Tract 9503.01; Appling County; Georgia                 1382   \n",
            "4  Census Tract 9503.02; Appling County; Georgia                 1048   \n",
            "\n",
            "   total_housing_units_moe  occupied_housing_units  vacant_housing_units  \n",
            "0                      215                    1253                   287  \n",
            "1                      212                     939                   221  \n",
            "2                      208                     903                   129  \n",
            "3                      190                    1007                   375  \n",
            "4                      210                     814                   234  \n",
            "                           geographic_area_name  occupied_housing_units\n",
            "0     Census Tract 9501; Anderson County; Texas                    1833\n",
            "1  Census Tract 9504.01; Anderson County; Texas                      20\n",
            "2  Census Tract 9504.02; Anderson County; Texas                       0\n",
            "3     Census Tract 9505; Anderson County; Texas                    1425\n",
            "4     Census Tract 9506; Anderson County; Texas                    1988\n",
            "                         geographic_area_name  occupied_housing_units\n",
            "0  Census Tract 2.01; Alachua County; Florida                    1960\n",
            "1  Census Tract 2.02; Alachua County; Florida                    1690\n",
            "2  Census Tract 3.01; Alachua County; Florida                    1816\n",
            "3  Census Tract 3.02; Alachua County; Florida                    1237\n",
            "4     Census Tract 4; Alachua County; Florida                    2242\n",
            "                            geographic_area_name  occupied_housing_units\n",
            "0     Census Tract 9501; Appling County; Georgia                    1253\n",
            "1  Census Tract 9502.01; Appling County; Georgia                     939\n",
            "2  Census Tract 9502.02; Appling County; Georgia                     903\n",
            "3  Census Tract 9503.01; Appling County; Georgia                    1007\n",
            "4  Census Tract 9503.02; Appling County; Georgia                     814\n",
            "                           geographic_area_name  families_median_income  \\\n",
            "0     Census Tract 9501; Anderson County; Texas                 81250.0   \n",
            "1  Census Tract 9504.01; Anderson County; Texas                105000.0   \n",
            "2  Census Tract 9504.02; Anderson County; Texas                 80340.0   \n",
            "3     Census Tract 9505; Anderson County; Texas                 59959.0   \n",
            "4     Census Tract 9506; Anderson County; Texas                 53063.0   \n",
            "\n",
            "  families_median_income_moe  \n",
            "0                      10343  \n",
            "1                      62532  \n",
            "2                         **  \n",
            "3                       5019  \n",
            "4                      21619  \n",
            "                         geographic_area_name families_median_income  \\\n",
            "0  Census Tract 2.01; Alachua County; Florida                      -   \n",
            "1  Census Tract 2.02; Alachua County; Florida                      -   \n",
            "2  Census Tract 3.01; Alachua County; Florida                  48464   \n",
            "3  Census Tract 3.02; Alachua County; Florida                  65109   \n",
            "4     Census Tract 4; Alachua County; Florida                  55224   \n",
            "\n",
            "  families_median_income_moe  \n",
            "0                         **  \n",
            "1                         **  \n",
            "2                       2217  \n",
            "3                      29484  \n",
            "4                      19651  \n",
            "                            geographic_area_name families_median_income  \\\n",
            "0     Census Tract 9501; Appling County; Georgia                  66150   \n",
            "1  Census Tract 9502.01; Appling County; Georgia                  54054   \n",
            "2  Census Tract 9502.02; Appling County; Georgia                  53327   \n",
            "3  Census Tract 9503.01; Appling County; Georgia                  53507   \n",
            "4  Census Tract 9503.02; Appling County; Georgia                  50393   \n",
            "\n",
            "  families_median_income_moe  \n",
            "0                      27177  \n",
            "1                      13415  \n",
            "2                       1485  \n",
            "3                      18922  \n",
            "4                      23312  \n",
            "                           geographic_area_name  percent_below_poverty_level  \\\n",
            "0     Census Tract 9501; Anderson County; Texas                         14.0   \n",
            "1  Census Tract 9504.01; Anderson County; Texas                          0.0   \n",
            "3     Census Tract 9505; Anderson County; Texas                         13.8   \n",
            "4     Census Tract 9506; Anderson County; Texas                         22.2   \n",
            "5     Census Tract 9507; Anderson County; Texas                         18.2   \n",
            "\n",
            "  percent_below_poverty_level_moe  families_received_ssi_or_public_assistance  \n",
            "0                             7.6                                         195  \n",
            "1                            82.3                                           2  \n",
            "3                             7.6                                          82  \n",
            "4                            15.3                                         162  \n",
            "5                            10.9                                          39  \n",
            "                         geographic_area_name  percent_below_poverty_level  \\\n",
            "0  Census Tract 2.01; Alachua County; Florida                         17.2   \n",
            "1  Census Tract 2.02; Alachua County; Florida                         53.3   \n",
            "2  Census Tract 3.01; Alachua County; Florida                          7.9   \n",
            "3  Census Tract 3.02; Alachua County; Florida                          5.1   \n",
            "4     Census Tract 4; Alachua County; Florida                         19.1   \n",
            "\n",
            "  percent_below_poverty_level_moe  families_received_ssi_or_public_assistance  \n",
            "0                            31.6                                           1  \n",
            "1                            32.0                                          12  \n",
            "2                             8.5                                          28  \n",
            "3                             6.1                                          80  \n",
            "4                            10.6                                         223  \n",
            "                            geographic_area_name  percent_below_poverty_level  \\\n",
            "0     Census Tract 9501; Appling County; Georgia                         20.3   \n",
            "1  Census Tract 9502.01; Appling County; Georgia                         24.7   \n",
            "2  Census Tract 9502.02; Appling County; Georgia                         16.1   \n",
            "3  Census Tract 9503.01; Appling County; Georgia                          9.4   \n",
            "4  Census Tract 9503.02; Appling County; Georgia                         30.0   \n",
            "\n",
            "  percent_below_poverty_level_moe  families_received_ssi_or_public_assistance  \n",
            "0                            10.4                                          45  \n",
            "1                            16.8                                          15  \n",
            "2                            14.7                                         153  \n",
            "3                             8.0                                          55  \n",
            "4                            19.4                                         144  \n"
          ]
        }
      ]
    },
    {
      "cell_type": "markdown",
      "source": [
        "Null values Management"
      ],
      "metadata": {
        "id": "C0vDc91Spjm5"
      }
    },
    {
      "cell_type": "code",
      "source": [
        "for df in datasets:\n",
        "    if 'total_housing_units' in df.columns:\n",
        "        df['total_housing_units'].fillna(df['total_housing_units'].median(), inplace=True)\n",
        "\n",
        "for df in datasets:\n",
        "    if 'percent_below_poverty_level' in df.columns:\n",
        "        df.dropna(subset=['percent_below_poverty_level'], inplace=True)\n",
        "\n",
        "print(df.head())"
      ],
      "metadata": {
        "id": "1EHa1sKxpjur",
        "colab": {
          "base_uri": "https://localhost:8080/"
        },
        "outputId": "897fcf4c-1728-422c-8824-4e71b1677e11"
      },
      "execution_count": null,
      "outputs": [
        {
          "output_type": "stream",
          "name": "stdout",
          "text": [
            "                            geographic_area_name  percent_below_poverty_level  \\\n",
            "0     Census Tract 9501; Appling County; Georgia                         20.3   \n",
            "1  Census Tract 9502.01; Appling County; Georgia                         24.7   \n",
            "2  Census Tract 9502.02; Appling County; Georgia                         16.1   \n",
            "3  Census Tract 9503.01; Appling County; Georgia                          9.4   \n",
            "4  Census Tract 9503.02; Appling County; Georgia                         30.0   \n",
            "\n",
            "  percent_below_poverty_level_moe  families_received_ssi_or_public_assistance  \n",
            "0                            10.4                                          45  \n",
            "1                            16.8                                          15  \n",
            "2                            14.7                                         153  \n",
            "3                             8.0                                          55  \n",
            "4                            19.4                                         144  \n"
          ]
        }
      ]
    },
    {
      "cell_type": "markdown",
      "source": [
        "Objects check"
      ],
      "metadata": {
        "id": "GdPrVg2q8pKj"
      }
    },
    {
      "cell_type": "code",
      "source": [
        "for col in ['total_housing_units', 'families_median_income']:\n",
        "    if col in df.columns:\n",
        "        df[col] = pd.to_numeric(df[col], errors='coerce')\n",
        "\n",
        "        if df[col].notna().any():\n",
        "            median_value = df[col].median()\n",
        "            df[col].fillna(median_value, inplace=True)\n",
        "    else:\n",
        "        print(f\"Column {col} not found in DataFrame.\")\n",
        "\n",
        "print(df.head())"
      ],
      "metadata": {
        "colab": {
          "base_uri": "https://localhost:8080/"
        },
        "id": "e3fAiP2j7SxU",
        "outputId": "a04d3c1d-aa86-4e27-bcde-d01180c02332"
      },
      "execution_count": null,
      "outputs": [
        {
          "output_type": "stream",
          "name": "stdout",
          "text": [
            "Column total_housing_units not found in DataFrame.\n",
            "Column families_median_income not found in DataFrame.\n",
            "                            geographic_area_name  percent_below_poverty_level  \\\n",
            "0     Census Tract 9501; Appling County; Georgia                         20.3   \n",
            "1  Census Tract 9502.01; Appling County; Georgia                         24.7   \n",
            "2  Census Tract 9502.02; Appling County; Georgia                         16.1   \n",
            "3  Census Tract 9503.01; Appling County; Georgia                          9.4   \n",
            "4  Census Tract 9503.02; Appling County; Georgia                         30.0   \n",
            "\n",
            "  percent_below_poverty_level_moe  families_received_ssi_or_public_assistance  \n",
            "0                            10.4                                          45  \n",
            "1                            16.8                                          15  \n",
            "2                            14.7                                         153  \n",
            "3                             8.0                                          55  \n",
            "4                            19.4                                         144  \n"
          ]
        }
      ]
    },
    {
      "cell_type": "markdown",
      "source": [
        "Track Number New Columns"
      ],
      "metadata": {
        "id": "OBjPI5cKA4nl"
      }
    },
    {
      "cell_type": "code",
      "source": [
        "\n",
        "df['tract_number'] = df['geographic_area_name'].str.extract('Census Tract (\\d+\\.\\d+|\\d+)')\n",
        "df['tract_number'] = pd.to_numeric(df['tract_number'], errors='coerce')\n",
        "print(df[['geographic_area_name', 'tract_number']].head())\n"
      ],
      "metadata": {
        "colab": {
          "base_uri": "https://localhost:8080/"
        },
        "id": "3p9fk4vbA6wJ",
        "outputId": "6926aa9d-1786-47c2-cfb6-18487199ab32"
      },
      "execution_count": null,
      "outputs": [
        {
          "output_type": "stream",
          "name": "stdout",
          "text": [
            "                            geographic_area_name  tract_number\n",
            "0     Census Tract 9501; Appling County; Georgia       9501.00\n",
            "1  Census Tract 9502.01; Appling County; Georgia       9502.01\n",
            "2  Census Tract 9502.02; Appling County; Georgia       9502.02\n",
            "3  Census Tract 9503.01; Appling County; Georgia       9503.01\n",
            "4  Census Tract 9503.02; Appling County; Georgia       9503.02\n"
          ]
        }
      ]
    },
    {
      "cell_type": "markdown",
      "source": [
        "Start Finsing Low-Income Values:\n",
        "Find Median of all"
      ],
      "metadata": {
        "id": "M7P0tDP_BUnr"
      }
    },
    {
      "cell_type": "code",
      "source": [
        "all_income = pd.concat([TX_inc, GA_inc, FL_inc])\n",
        "\n",
        "all_income['families_median_income'] = pd.to_numeric(all_income['families_median_income'].replace('-', np.nan), errors='coerce')\n",
        "\n",
        "print(all_income['families_median_income'].unique())\n",
        "\n",
        "fill_value = all_income['families_median_income'].median()\n",
        "all_income['families_median_income'].fillna(fill_value, inplace=True)\n",
        "\n",
        "median_income = all_income['families_median_income'].median()\n",
        "print(f\"The median income with imputed values across TX, GA, and FL is: ${median_income}\")\n",
        "\n",
        "median_income = all_income['families_median_income'].median()\n",
        "print(f\"The median income across TX, GA, and FL is: ${median_income}\")\n"
      ],
      "metadata": {
        "colab": {
          "base_uri": "https://localhost:8080/"
        },
        "id": "QKNh1SUXCQTq",
        "outputId": "807f7b53-3cbd-43a4-f8bd-1ce500035cea"
      },
      "execution_count": null,
      "outputs": [
        {
          "output_type": "stream",
          "name": "stdout",
          "text": [
            "[ 81250. 105000.  80340. ...  56484.  54028.  61972.]\n",
            "The median income with imputed values across TX, GA, and FL is: $80340.0\n",
            "The median income across TX, GA, and FL is: $80340.0\n"
          ]
        }
      ]
    },
    {
      "cell_type": "markdown",
      "source": [
        "Find the median for each state"
      ],
      "metadata": {
        "id": "mksXtAO4JQz_"
      }
    },
    {
      "cell_type": "code",
      "source": [
        "def clean_and_calculate_medians(df):\n",
        "    median_values = {}\n",
        "    for column in df.columns:\n",
        "        df[column] = pd.to_numeric(df[column].replace('-', np.nan), errors='coerce')\n",
        "\n",
        "        if df[column].dtype in ['float64', 'int64']:\n",
        "            median_values[column] = df[column].median()\n",
        "\n",
        "    return median_values\n",
        "\n",
        "medians_TX = clean_and_calculate_medians(TX_inc)\n",
        "print(\"Median Incomes for Texas:\")\n",
        "for column, median in medians_TX.items():\n",
        "    print(f\"{column}: ${median}\")\n",
        "\n",
        "medians_GA = clean_and_calculate_medians(GA_inc)\n",
        "print(\"Median Incomes for Georgia:\")\n",
        "for column, median in medians_GA.items():\n",
        "    print(f\"{column}: ${median}\")\n",
        "\n",
        "medians_FL = clean_and_calculate_medians(FL_inc)\n",
        "print(\"Median Incomes for Florida:\")\n",
        "for column, median in medians_FL.items():\n",
        "    print(f\"{column}: ${median}\")\n"
      ],
      "metadata": {
        "colab": {
          "base_uri": "https://localhost:8080/"
        },
        "id": "XREsasgWJQaF",
        "outputId": "4d29132c-59c7-46f0-8303-f3335a990ce6"
      },
      "execution_count": null,
      "outputs": [
        {
          "output_type": "stream",
          "name": "stdout",
          "text": [
            "Median Incomes for Texas:\n",
            "geographic_area_name: $nan\n",
            "families_median_income: $80340.0\n",
            "families_median_income_moe: $19855.5\n",
            "Median Incomes for Georgia:\n",
            "geographic_area_name: $nan\n",
            "families_median_income: $79605.0\n",
            "families_median_income_moe: $21203.0\n",
            "Median Incomes for Florida:\n",
            "geographic_area_name: $nan\n",
            "families_median_income: $78452.5\n",
            "families_median_income_moe: $18988.0\n"
          ]
        },
        {
          "output_type": "stream",
          "name": "stderr",
          "text": [
            "/usr/local/lib/python3.10/dist-packages/numpy/lib/nanfunctions.py:1215: RuntimeWarning: Mean of empty slice\n",
            "  return np.nanmean(a, axis, out=out, keepdims=keepdims)\n",
            "/usr/local/lib/python3.10/dist-packages/numpy/lib/nanfunctions.py:1215: RuntimeWarning: Mean of empty slice\n",
            "  return np.nanmean(a, axis, out=out, keepdims=keepdims)\n",
            "/usr/local/lib/python3.10/dist-packages/numpy/lib/nanfunctions.py:1215: RuntimeWarning: Mean of empty slice\n",
            "  return np.nanmean(a, axis, out=out, keepdims=keepdims)\n"
          ]
        }
      ]
    },
    {
      "cell_type": "markdown",
      "source": [
        "Families Median Income"
      ],
      "metadata": {
        "id": "vZCMWknfLXSd"
      }
    },
    {
      "cell_type": "code",
      "source": [
        "def extract_tract_number(geo_name):\n",
        "    parts = geo_name.split(';')\n",
        "    if len(parts) > 0:\n",
        "        tract_part = parts[0].strip()\n",
        "        tract_number = tract_part.split(' ')[-1]\n",
        "        return tract_number\n",
        "    return None\n",
        "\n",
        "def process_state_data(df, state_name):\n",
        "    if 'geographic_area_name' in df.columns:\n",
        "        df['geographic_area_name'] = df['geographic_area_name'].astype(str)\n",
        "\n",
        "        df['track_number'] = df['geographic_area_name'].apply(extract_tract_number)\n",
        "    else:\n",
        "        print(f\"No 'geographic_area_name' column found in {state_name} data.\")\n",
        "        return\n",
        "\n",
        "    if 'families_median_income' in df.columns:\n",
        "        df['families_median_income'] = pd.to_numeric(df['families_median_income'].replace('-', np.nan), errors='coerce')\n",
        "        overall_median_income = df['families_median_income'].median()\n",
        "        low_income_threshold = 0.5 * overall_median_income\n",
        "        high_income_threshold = 0.8 * overall_median_income\n",
        "\n",
        "        filtered_df = df[(df['families_median_income'] >= low_income_threshold) &\n",
        "                         (df['families_median_income'] <= high_income_threshold)]\n",
        "\n",
        "        filtered_df.to_csv(f'/content/drive/MyDrive/Datathon/results/{state_name}_low_income_families.csv', index=False)\n",
        "        print(f\"{state_name}: {filtered_df.shape[0]} families fall within the low-income threshold.\")\n",
        "    else:\n",
        "        print(f\"No 'families_median_income' column found in {state_name} data.\")\n",
        "\n",
        "TX_low_income_families = process_state_data(TX_inc, 'TX')\n",
        "GA_low_income_families = process_state_data(GA_inc, 'GA')\n",
        "FL_low_income_families = process_state_data(FL_inc, 'FL')"
      ],
      "metadata": {
        "colab": {
          "base_uri": "https://localhost:8080/"
        },
        "id": "sJbWxPZhKxQ8",
        "outputId": "7911e292-23f3-4454-b5c5-4b0d22046c6d"
      },
      "execution_count": null,
      "outputs": [
        {
          "output_type": "stream",
          "name": "stdout",
          "text": [
            "TX: 1664 families fall within the low-income threshold.\n",
            "GA: 614 families fall within the low-income threshold.\n",
            "FL: 1214 families fall within the low-income threshold.\n"
          ]
        }
      ]
    }
  ]
}